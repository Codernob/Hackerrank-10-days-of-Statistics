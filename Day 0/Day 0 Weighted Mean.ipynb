{
 "cells": [
  {
   "cell_type": "markdown",
   "source": [
    "The problem description can be found at\r\n",
    "https://www.hackerrank.com/challenges/s10-weighted-mean/submissions/code/218062633"
   ],
   "metadata": {}
  },
  {
   "cell_type": "code",
   "execution_count": null,
   "source": [
    "# Complete the 'weightedMean' function below.\r\n",
    "#\r\n",
    "# The function accepts following parameters:\r\n",
    "#  1. INTEGER_ARRAY X\r\n",
    "#  2. INTEGER_ARRAY W\r\n",
    "#\r\n",
    "\r\n",
    "def weightedMean(X, W):\r\n",
    "    # Write your code here\r\n",
    "    weightedSum = 0\r\n",
    "    for i in range(len(X)):\r\n",
    "        weightedSum = weightedSum + (X[i] * W[i])\r\n",
    "    return weightedSum/sum(W)"
   ],
   "outputs": [],
   "metadata": {}
  }
 ],
 "metadata": {
  "orig_nbformat": 4,
  "language_info": {
   "name": "python"
  }
 },
 "nbformat": 4,
 "nbformat_minor": 2
}