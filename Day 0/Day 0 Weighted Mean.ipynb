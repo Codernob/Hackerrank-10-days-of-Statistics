{
 "cells": [
  {
   "cell_type": "markdown",
   "source": [
    "The problem description can be found at\r\n",
    "https://www.hackerrank.com/challenges/s10-weighted-mean/problem\r\n",
    "\r\n",
    "The weighted mean is calculated when we want different values of our dataset `X` to have different contributions to the mean. We'll write the code first and see some examples where this will be more clear. "
   ],
   "metadata": {}
  },
  {
   "cell_type": "markdown",
   "source": [
    "We are to complete the function weightedMean which takes the parameters X, W where X, W are integer arrays."
   ],
   "metadata": {}
  },
  {
   "cell_type": "code",
   "execution_count": 1,
   "source": [
    "def weightedMean(X, W):\r\n",
    "    weightedSum = 0\r\n",
    "    for i in range(len(X)):\r\n",
    "        weightedSum = weightedSum + (X[i] * W[i])\r\n",
    "    return weightedSum/sum(W)"
   ],
   "outputs": [],
   "metadata": {}
  },
  {
   "cell_type": "markdown",
   "source": [
    "suppose we have the following example of `X` and `W`. "
   ],
   "metadata": {}
  },
  {
   "cell_type": "code",
   "execution_count": 2,
   "source": [
    "X = [10, 70, 150, 320]\r\n",
    "W = [100, 2, 3, 1]\r\n",
    "\r\n",
    "print(weightedMean(X,W))"
   ],
   "outputs": [
    {
     "output_type": "stream",
     "name": "stdout",
     "text": [
      "18.0188679245283\n"
     ]
    }
   ],
   "metadata": {}
  },
  {
   "cell_type": "markdown",
   "source": [
    "Here, the first element of X, 10 has a weight of 100, which is the highest weight among all the weights. So the weighted mean (18.01) is more skewed towards the first element of X (10). Even though we have large elements like 70, 150, 320 in X, since they have relatively low weight (2,3,1 respectively); the weighted mean isn't close to them."
   ],
   "metadata": {}
  }
 ],
 "metadata": {
  "orig_nbformat": 4,
  "language_info": {
   "name": "python",
   "version": "3.8.10",
   "mimetype": "text/x-python",
   "codemirror_mode": {
    "name": "ipython",
    "version": 3
   },
   "pygments_lexer": "ipython3",
   "nbconvert_exporter": "python",
   "file_extension": ".py"
  },
  "kernelspec": {
   "name": "python3",
   "display_name": "Python 3.8.10 64-bit ('base': conda)"
  },
  "interpreter": {
   "hash": "639fde48ec0128a88b630484619c8c1a2f485ef59b6c38ec287b184a16f1b08e"
  }
 },
 "nbformat": 4,
 "nbformat_minor": 2
}