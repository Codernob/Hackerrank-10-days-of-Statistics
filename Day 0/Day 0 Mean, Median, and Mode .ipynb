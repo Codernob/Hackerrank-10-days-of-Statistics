{
 "cells": [
  {
   "cell_type": "markdown",
   "source": [
    "The problem description can be found at\r\n",
    "https://www.hackerrank.com/challenges/s10-basic-statistics/problem"
   ],
   "metadata": {}
  },
  {
   "cell_type": "code",
   "execution_count": null,
   "source": [
    "N = int(input())\r\n",
    "X = list(map(int,input().split()))\r\n",
    "print(\"%.1f\"%(sum(X)/N))\r\n",
    "X.sort()\r\n",
    "s=len(X)\r\n",
    "if len(X)%2!=0:\r\n",
    "    index = int((s+1)/2 -1)\r\n",
    "    median = X[index]\r\n",
    "    print(\"%.1f\"%median)\r\n",
    "else:\r\n",
    "    index1 = int(s/2 - 1)\r\n",
    "    index2 = index1 + 1\r\n",
    "    median = float((X[index1]+X[index2])/2)\r\n",
    "    print(\"%.1f\"%median)\r\n",
    "Map = {}\r\n",
    "for item in X:\r\n",
    "    Map[item] = 0\r\n",
    "\r\n",
    "for item in X:\r\n",
    "    Map[item] = Map[item] + 1\r\n",
    "\r\n",
    "maximum = -1\r\n",
    "for item in Map:\r\n",
    "    if Map[item]>maximum:\r\n",
    "        maximum=Map[item]\r\n",
    "for item in Map:\r\n",
    "    if(Map[item]==maximum):\r\n",
    "        print(item)\r\n",
    "        break"
   ],
   "outputs": [],
   "metadata": {}
  }
 ],
 "metadata": {
  "orig_nbformat": 4,
  "language_info": {
   "name": "python"
  }
 },
 "nbformat": 4,
 "nbformat_minor": 2
}