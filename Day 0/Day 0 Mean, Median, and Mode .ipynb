{
 "cells": [
  {
   "cell_type": "markdown",
   "source": [
    "The problem description can be found at\r\n",
    "https://www.hackerrank.com/challenges/s10-basic-statistics/problem\r\n",
    "\r\n",
    "mean, median and mode are a good ways to measure the central tendency of a dataset. In this tutorial, we will learn how to calculate these in python. "
   ],
   "metadata": {}
  },
  {
   "cell_type": "markdown",
   "source": [
    "First we take input and print the mean."
   ],
   "metadata": {}
  },
  {
   "cell_type": "code",
   "execution_count": null,
   "source": [
    "N = int(input()) # size of our array\r\n",
    "X = list(map(int,input().split())) # taking array as input\r\n",
    "print(\"%.1f\"%(sum(X)/N)) # printing the mean or average"
   ],
   "outputs": [],
   "metadata": {}
  },
  {
   "cell_type": "markdown",
   "source": [
    "Now it's time to calculate the median. It is the value that sits at the center of the sorted dataset. The formula for median is different for when length of X is odd and when it is even."
   ],
   "metadata": {}
  },
  {
   "cell_type": "code",
   "execution_count": null,
   "source": [
    "X.sort() # X needs to be sorted for computing median\r\n",
    "if N%2!=0: # N is odd\r\n",
    "    index = int((N+1)/2 -1)\r\n",
    "    median = X[index]\r\n",
    "    print(\"%.1f\"%median)\r\n",
    "else: # N is even\r\n",
    "    index1 = int(N/2 - 1)\r\n",
    "    index2 = index1 + 1\r\n",
    "    median = float((X[index1]+X[index2])/2)\r\n",
    "    print(\"%.1f\"%median)"
   ],
   "outputs": [],
   "metadata": {}
  },
  {
   "cell_type": "markdown",
   "source": [
    "At last, we calculate the mode. It is the value that occurs the most in our dataset X. We'll use a map to keep track of the occurance of every item in X. The elements of X are the keys and the respective values will be how many times the key has occurred in the dataset."
   ],
   "metadata": {}
  },
  {
   "cell_type": "code",
   "execution_count": null,
   "source": [
    "Map = {}\r\n",
    "for item in X:\r\n",
    "    Map[item] = 0 # setting all the number of occurances to 0 initially\r\n",
    "\r\n",
    "for item in X:\r\n",
    "    Map[item] = Map[item] + 1 # counting how many times a key has occurred\r\n",
    "\r\n",
    "maximum = -1\r\n",
    "for item in Map:\r\n",
    "    if Map[item]>maximum:\r\n",
    "        maximum=Map[item] # updating the maximum number of occurance\r\n",
    "\r\n",
    "# now mode is the key in Map which has occured maximum number of times\r\n",
    "\r\n",
    "for item in Map:\r\n",
    "    if(Map[item]==maximum):\r\n",
    "        print(item)\r\n",
    "        break"
   ],
   "outputs": [],
   "metadata": {}
  }
 ],
 "metadata": {
  "orig_nbformat": 4,
  "language_info": {
   "name": "python"
  }
 },
 "nbformat": 4,
 "nbformat_minor": 2
}