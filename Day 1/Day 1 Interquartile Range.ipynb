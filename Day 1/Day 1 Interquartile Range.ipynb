{
 "cells": [
  {
   "cell_type": "markdown",
   "source": [
    "problem statement\r\n",
    "\r\n",
    "https://www.hackerrank.com/challenges/s10-interquartile-range/problem"
   ],
   "metadata": {}
  },
  {
   "cell_type": "code",
   "execution_count": null,
   "source": [
    "def M(X):\r\n",
    "    median = 0\r\n",
    "    s=len(X)\r\n",
    "    if len(X)%2!=0:\r\n",
    "        index = int((s+1)/2 -1)\r\n",
    "        median = X[index]\r\n",
    "    else:\r\n",
    "        index1 = int(s/2 - 1)\r\n",
    "        index2 = index1 + 1\r\n",
    "        median = float((X[index1]+X[index2])/2)\r\n",
    "    return median\r\n",
    "\r\n",
    "def quartiles(arr):\r\n",
    "    # Write your code here\r\n",
    "    arr.sort()\r\n",
    "    Length = len(arr)\r\n",
    "    Q3 = 0\r\n",
    "    Q1 = 0\r\n",
    "    if(Length%2 == 0):\r\n",
    "        Q1 = M(arr[0:int(Length/2)])\r\n",
    "        Q3 = M(arr[int(Length/2):Length])\r\n",
    "    else:\r\n",
    "        Q1 = M(arr[0:int((Length-1)/2)])\r\n",
    "        Q3 = M(arr[int((Length-1)/2 +1):Length])\r\n",
    "    \r\n",
    "    return Q3-Q1\r\n",
    "\r\n",
    "\r\n",
    "#\r\n",
    "# Complete the 'interQuartile' function below.\r\n",
    "#\r\n",
    "# The function accepts following parameters:\r\n",
    "#  1. INTEGER_ARRAY values\r\n",
    "#  2. INTEGER_ARRAY freqs\r\n",
    "#\r\n",
    "\r\n",
    "def interQuartile(values, freqs):\r\n",
    "    # Print your answer to 1 decimal place within this function\r\n",
    "    Length = len(values)\r\n",
    "    S = []\r\n",
    "    for i in range(Length):\r\n",
    "        for j in range(freqs[i]):\r\n",
    "            S.append(values[i])\r\n",
    "    print(\"%.1f\"%(quartiles(S)))\r\n"
   ],
   "outputs": [],
   "metadata": {}
  }
 ],
 "metadata": {
  "orig_nbformat": 4,
  "language_info": {
   "name": "python"
  }
 },
 "nbformat": 4,
 "nbformat_minor": 2
}