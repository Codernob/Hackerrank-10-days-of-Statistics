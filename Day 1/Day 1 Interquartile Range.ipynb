{
 "cells": [
  {
   "cell_type": "markdown",
   "source": [
    "problem statement\r\n",
    "\r\n",
    "https://www.hackerrank.com/challenges/s10-interquartile-range/problem\r\n",
    "\r\n",
    "In this problem, we will calculate the InterQuartile Range (IQR). It is the difference between the first quartile and the third quartile. The IQR is used to measure how spread out the data points in a set are from the mean of the data set. The higher the IQR, the more spread out the data points; in contrast, the smaller the IQR, the more bunched up the data points are around the mean. The IQR range is one of many measurements used to measure how spread out the data points in a data set are. It is best used with other measurements such as the median and total range to build a complete picture of a data set’s tendency to cluster around its mean."
   ],
   "metadata": {}
  },
  {
   "cell_type": "markdown",
   "source": [
    "First we'll need a function `M` that takes a list `X` and returns the median of the list."
   ],
   "metadata": {}
  },
  {
   "cell_type": "code",
   "execution_count": null,
   "source": [
    "def M(X):\r\n",
    "    # since X will be sorted before calling from quartiles(), no need to sort X here\r\n",
    "    median = 0\r\n",
    "    s=len(X)\r\n",
    "    if len(X)%2!=0: # length of X is odd\r\n",
    "        index = int((s+1)/2 -1)\r\n",
    "        median = X[index]\r\n",
    "    else: # length of X is even\r\n",
    "        index1 = int(s/2 - 1)\r\n",
    "        index2 = index1 + 1\r\n",
    "        median = float((X[index1]+X[index2])/2)\r\n",
    "    return median"
   ],
   "outputs": [],
   "metadata": {}
  },
  {
   "cell_type": "markdown",
   "source": [
    "Next we'll define a function `quartiles` for calculating the interquartile range."
   ],
   "metadata": {}
  },
  {
   "cell_type": "code",
   "execution_count": null,
   "source": [
    "def quartiles(arr):\r\n",
    "    # Write your code here\r\n",
    "    arr.sort()\r\n",
    "    Length = len(arr)\r\n",
    "    Q3 = 0 # third quartile\r\n",
    "    Q1 = 0 # first quartile\r\n",
    "    if(Length%2 == 0): # if Length is even\r\n",
    "        Q1 = M(arr[0:int(Length/2)])\r\n",
    "        Q3 = M(arr[int(Length/2):Length])\r\n",
    "    else: # if Length is odd\r\n",
    "        Q1 = M(arr[0:int((Length-1)/2)])\r\n",
    "        Q3 = M(arr[int((Length-1)/2 +1):Length])\r\n",
    "    \r\n",
    "    return Q3-Q1 # returning interquartile range of arr"
   ],
   "outputs": [],
   "metadata": {}
  },
  {
   "cell_type": "markdown",
   "source": [
    "Next we have to complete the given function `interQuartile` which takes an integer array `values` and another integer array `freqs`. We'll construct the array `S` as per the problem description. "
   ],
   "metadata": {}
  },
  {
   "cell_type": "code",
   "execution_count": null,
   "source": [
    "def interQuartile(values, freqs):\r\n",
    "    Length = len(values)\r\n",
    "    S = []\r\n",
    "    for i in range(Length):\r\n",
    "        for j in range(freqs[i]):\r\n",
    "            S.append(values[i])\r\n",
    "    print(\"%.1f\"%(quartiles(S))) # Printing answer to 1 decimal place within this function"
   ],
   "outputs": [],
   "metadata": {}
  }
 ],
 "metadata": {
  "orig_nbformat": 4,
  "language_info": {
   "name": "python"
  }
 },
 "nbformat": 4,
 "nbformat_minor": 2
}