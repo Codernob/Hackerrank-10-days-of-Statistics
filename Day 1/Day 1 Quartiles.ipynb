{
 "cells": [
  {
   "cell_type": "markdown",
   "source": [
    "problem description\r\n",
    "https://www.hackerrank.com/challenges/s10-quartiles/problem"
   ],
   "metadata": {}
  },
  {
   "cell_type": "code",
   "execution_count": null,
   "source": [
    "def M(X):\r\n",
    "    median = 0\r\n",
    "    s=len(X)\r\n",
    "    if len(X)%2!=0:\r\n",
    "        index = int((s+1)/2 -1)\r\n",
    "        median = X[index]\r\n",
    "    else:\r\n",
    "        index1 = int(s/2 - 1)\r\n",
    "        index2 = index1 + 1\r\n",
    "        median = float((X[index1]+X[index2])/2)\r\n",
    "    return median\r\n",
    "\r\n",
    "#\r\n",
    "# Complete the 'quartiles' function below.\r\n",
    "#\r\n",
    "# The function is expected to return an INTEGER_ARRAY.\r\n",
    "# The function accepts INTEGER_ARRAY arr as parameter.\r\n",
    "#\r\n",
    "def quartiles(arr):\r\n",
    "    # Write your code here\r\n",
    "    arr.sort()\r\n",
    "    Length = len(arr)\r\n",
    "    Q2 = M(arr)\r\n",
    "    Q3 = 0\r\n",
    "    Q1 = 0\r\n",
    "    if(Length%2 == 0):\r\n",
    "        Q1 = M(arr[0:int(Length/2)])\r\n",
    "        Q3 = M(arr[int(Length/2):Length])\r\n",
    "    else:\r\n",
    "        Q1 = M(arr[0:int((Length-1)/2)])\r\n",
    "        Q3 = M(arr[int((Length-1)/2 +1):Length])\r\n",
    "    \r\n",
    "    return [int(Q1),int(Q2),int(Q3)]"
   ],
   "outputs": [],
   "metadata": {}
  }
 ],
 "metadata": {
  "orig_nbformat": 4,
  "language_info": {
   "name": "python"
  }
 },
 "nbformat": 4,
 "nbformat_minor": 2
}