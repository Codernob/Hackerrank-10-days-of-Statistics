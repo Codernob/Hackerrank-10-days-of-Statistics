{
 "cells": [
  {
   "cell_type": "markdown",
   "source": [
    "problem description\r\n",
    "https://www.hackerrank.com/challenges/s10-quartiles/problem\r\n",
    "\r\n",
    "We will calculate quartiles of an array in this problem. Quartiles are used to summarize a group of numbers. Quartiles are great for reporting on a set of data and for making box and whisker plots. Quartiles are especially useful when you're working with data that isn't symmetrically distributed, or a data set that has outliers. Quartiles help to calculate the interquartile range."
   ],
   "metadata": {}
  },
  {
   "cell_type": "markdown",
   "source": [
    "First we'll need a function that calculates the median of an array."
   ],
   "metadata": {}
  },
  {
   "cell_type": "code",
   "execution_count": null,
   "source": [
    "def M(X):\r\n",
    "    median = 0\r\n",
    "    s=len(X)\r\n",
    "    if len(X)%2!=0:\r\n",
    "        index = int((s+1)/2 -1)\r\n",
    "        median = X[index]\r\n",
    "    else:\r\n",
    "        index1 = int(s/2 - 1)\r\n",
    "        index2 = index1 + 1\r\n",
    "        median = float((X[index1]+X[index2])/2)\r\n",
    "    return median"
   ],
   "outputs": [],
   "metadata": {}
  },
  {
   "cell_type": "markdown",
   "source": [
    "Next we'll complete the function `quartiles` given in hackerrank's code editor. It will take an array as a parameter return the quartiles `Q1`, `Q2`, `Q3` as a python list. "
   ],
   "metadata": {}
  },
  {
   "cell_type": "code",
   "execution_count": null,
   "source": [
    "def quartiles(arr):\r\n",
    "    # Write your code here\r\n",
    "    arr.sort()\r\n",
    "    Length = len(arr)\r\n",
    "    Q2 = M(arr) # median of arr is second quartile Q2\r\n",
    "    Q3 = 0 # third quartile\r\n",
    "    Q1 = 0 # first quartile\r\n",
    "    if(Length%2 == 0): # if Length is even\r\n",
    "        Q1 = M(arr[0:int(Length/2)]) \r\n",
    "        Q3 = M(arr[int(Length/2):Length])\r\n",
    "    else: # if Length is odd\r\n",
    "        Q1 = M(arr[0:int((Length-1)/2)])\r\n",
    "        Q3 = M(arr[int((Length-1)/2 +1):Length])\r\n",
    "    \r\n",
    "    return [int(Q1),int(Q2),int(Q3)] #returning the quartiles"
   ],
   "outputs": [],
   "metadata": {}
  }
 ],
 "metadata": {
  "orig_nbformat": 4,
  "language_info": {
   "name": "python"
  }
 },
 "nbformat": 4,
 "nbformat_minor": 2
}