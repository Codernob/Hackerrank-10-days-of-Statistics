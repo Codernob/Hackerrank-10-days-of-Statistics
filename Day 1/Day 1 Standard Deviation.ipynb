{
 "cells": [
  {
   "cell_type": "markdown",
   "source": [
    "problem statement\r\n",
    "\r\n",
    "https://www.hackerrank.com/challenges/s10-standard-deviation/problem\r\n",
    "\r\n",
    "Standard deviation is a number used to tell how measurements for a group are spread out from the average (mean or expected value). A low standard deviation means that most of the numbers are close to the average, while a high standard deviation means that the numbers are more spread out. In finance, standard deviations of price data are frequently used as a measure of volatility. In opinion polling, standard deviations are a key part of calculating margins of error.\r\n",
    "\r\n",
    "In this tutorial, we will compute standard deviation programatically."
   ],
   "metadata": {}
  },
  {
   "cell_type": "markdown",
   "source": [
    "We are given a dataset `arr` as a parameter to our function `setdDev` which we'll need to complete. The formula for standard deviation can be seen in the image below. "
   ],
   "metadata": {}
  },
  {
   "cell_type": "markdown",
   "source": [
    "<img src=\"https://i.ibb.co/KmdBFdw/Capture.jpg\" alt=\"\" title=\"\" />"
   ],
   "metadata": {}
  },
  {
   "cell_type": "code",
   "execution_count": 2,
   "source": [
    "def stdDev(arr):\r\n",
    "    # Print your answers to 1 decimal place within this function\r\n",
    "    median = sum(arr)/len(arr) # calculating median of arr\r\n",
    "    sd = 0.0 # sd will store the standard deviation of arr\r\n",
    "    for element in arr:\r\n",
    "        sd += (element-median)**2\r\n",
    "    sd = (sd/len(arr))**0.5 # dividing by n and taking the square root\r\n",
    "    print(\"%.1f\"%sd)"
   ],
   "outputs": [],
   "metadata": {}
  }
 ],
 "metadata": {
  "orig_nbformat": 4,
  "language_info": {
   "name": "python",
   "version": "3.8.10"
  },
  "kernelspec": {
   "name": "python3",
   "display_name": "Python 3.8.10 64-bit ('base': conda)"
  },
  "interpreter": {
   "hash": "639fde48ec0128a88b630484619c8c1a2f485ef59b6c38ec287b184a16f1b08e"
  }
 },
 "nbformat": 4,
 "nbformat_minor": 2
}