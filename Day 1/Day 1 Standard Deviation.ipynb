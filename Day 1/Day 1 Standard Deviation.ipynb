{
 "cells": [
  {
   "cell_type": "markdown",
   "source": [
    "problem statement\r\n",
    "\r\n",
    "https://www.hackerrank.com/challenges/s10-standard-deviation/problem"
   ],
   "metadata": {}
  },
  {
   "cell_type": "code",
   "execution_count": null,
   "source": [
    "def stdDev(arr):\r\n",
    "    # Print your answers to 1 decimal place within this function\r\n",
    "    median = sum(arr)/len(arr)\r\n",
    "    sd = 0.0\r\n",
    "    for e in arr:\r\n",
    "        sd += (e-median)**2\r\n",
    "    sd = (sd/len(arr))**0.5\r\n",
    "    print(\"%.1f\"%sd)"
   ],
   "outputs": [],
   "metadata": {}
  }
 ],
 "metadata": {
  "orig_nbformat": 4,
  "language_info": {
   "name": "python"
  }
 },
 "nbformat": 4,
 "nbformat_minor": 2
}