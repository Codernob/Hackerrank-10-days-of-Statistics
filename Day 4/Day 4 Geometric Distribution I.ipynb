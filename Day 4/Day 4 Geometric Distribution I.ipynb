{
 "cells": [
  {
   "cell_type": "markdown",
   "source": [
    "problem statement\r\n",
    "https://www.hackerrank.com/challenges/s10-geometric-distribution-1/problem"
   ],
   "metadata": {}
  },
  {
   "cell_type": "code",
   "execution_count": null,
   "source": [
    "# Enter your code here. Read input from STDIN. Print output to STDOUT\r\n",
    "a,b = list(map(int,input().split()))\r\n",
    "p = a/float(b)\r\n",
    "n = int(input())\r\n",
    "q = 1-p\r\n",
    "print(\"%.3f\"%(q**(n-1) * p))\r\n"
   ],
   "outputs": [],
   "metadata": {}
  }
 ],
 "metadata": {
  "orig_nbformat": 4,
  "language_info": {
   "name": "python"
  }
 },
 "nbformat": 4,
 "nbformat_minor": 2
}