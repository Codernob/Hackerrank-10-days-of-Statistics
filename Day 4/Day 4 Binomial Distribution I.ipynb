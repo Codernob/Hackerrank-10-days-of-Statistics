{
 "cells": [
  {
   "cell_type": "markdown",
   "source": [
    "problem statement\r\n",
    "https://www.hackerrank.com/challenges/s10-binomial-distribution-1/problem"
   ],
   "metadata": {}
  },
  {
   "cell_type": "code",
   "execution_count": null,
   "source": [
    "# Enter your code here. Read input from STDIN. Print output to STDOUT\r\n",
    "import math\r\n",
    "def nCr(n,r):\r\n",
    "    f = math.factorial\r\n",
    "    return f(n) / f(r) / f(n-r)\r\n",
    "\r\n",
    "def binomial(n,x,p):\r\n",
    "        return nCr(n,x) * p**x * q**(n-x)\r\n",
    "\r\n",
    "a, b = list(map(float,input().split()))\r\n",
    "p = a/(a+b)\r\n",
    "n = 6.0\r\n",
    "q = 1-p\r\n",
    "ans = 0.0\r\n",
    "for x in range(3,7):\r\n",
    "    ans += binomial(n,x,p)\r\n",
    "print(\"%.3f\"%ans)\r\n"
   ],
   "outputs": [],
   "metadata": {}
  }
 ],
 "metadata": {
  "orig_nbformat": 4,
  "language_info": {
   "name": "python"
  }
 },
 "nbformat": 4,
 "nbformat_minor": 2
}