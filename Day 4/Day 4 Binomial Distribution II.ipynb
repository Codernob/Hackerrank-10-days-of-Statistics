{
 "cells": [
  {
   "cell_type": "markdown",
   "source": [
    "problem statement\r\n",
    "https://www.hackerrank.com/challenges/s10-binomial-distribution-2/problem"
   ],
   "metadata": {}
  },
  {
   "cell_type": "code",
   "execution_count": null,
   "source": [
    "# Enter your code here. Read input from STDIN. Print output to STDOUT\r\n",
    "import math\r\n",
    "def nCr(n,r):\r\n",
    "    f = math.factorial\r\n",
    "    return f(n) / f(r) / f(n-r)\r\n",
    "\r\n",
    "def binomial(n,x,p):\r\n",
    "        return nCr(n,x) * p**x * q**(n-x)\r\n",
    "\r\n",
    "p,n = list(map(float,input().split()))\r\n",
    "p = p/100.0\r\n",
    "q = 1-p\r\n",
    "ans = 0.0\r\n",
    "for x in range(0,3):\r\n",
    "    ans += binomial(n,x,p)\r\n",
    "print(\"%.3f\"%ans)\r\n",
    "ans = 0.0\r\n",
    "for x in range(2,11):\r\n",
    "    ans += binomial(n,x,p)\r\n",
    "print(\"%.3f\"%ans)\r\n"
   ],
   "outputs": [],
   "metadata": {}
  }
 ],
 "metadata": {
  "orig_nbformat": 4,
  "language_info": {
   "name": "python"
  }
 },
 "nbformat": 4,
 "nbformat_minor": 2
}