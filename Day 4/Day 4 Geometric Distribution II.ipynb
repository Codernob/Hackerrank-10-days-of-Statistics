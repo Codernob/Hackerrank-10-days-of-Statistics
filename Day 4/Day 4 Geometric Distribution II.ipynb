{
 "cells": [
  {
   "cell_type": "markdown",
   "source": [
    "problem statement\r\n",
    "https://www.hackerrank.com/challenges/s10-geometric-distribution-2/problem"
   ],
   "metadata": {}
  },
  {
   "cell_type": "code",
   "execution_count": null,
   "source": [
    "# Enter your code here. Read input from STDIN. Print output to STDOUT\r\n",
    "import math\r\n",
    "def nCr(n,r):\r\n",
    "    f = math.factorial\r\n",
    "    return f(n)/(f(r) * f(n-r))\r\n",
    "a,b = list(map(int,input().split()))\r\n",
    "p = a/float(b)\r\n",
    "n = int(input())\r\n",
    "q = 1-p\r\n",
    "ans = 0.0\r\n",
    "for x in range(1,n+1):\r\n",
    "    ans += ( p * q**(x-1))\r\n",
    "print(\"%.3f\"%ans)\r\n"
   ],
   "outputs": [],
   "metadata": {}
  }
 ],
 "metadata": {
  "orig_nbformat": 4,
  "language_info": {
   "name": "python"
  }
 },
 "nbformat": 4,
 "nbformat_minor": 2
}