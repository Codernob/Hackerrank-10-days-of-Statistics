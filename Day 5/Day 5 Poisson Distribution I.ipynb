{
 "cells": [
  {
   "cell_type": "markdown",
   "metadata": {},
   "source": [
    "problem statement\n",
    "https://www.hackerrank.com/challenges/s10-poisson-distribution-1/problem"
   ]
  },
  {
   "cell_type": "code",
   "execution_count": null,
   "metadata": {},
   "outputs": [],
   "source": [
    "import math\n",
    "L = float(input())\n",
    "k = float(input())\n",
    "p = (L**k) * (2.71828**(-L)) / math.factorial(k)\n",
    "print(\"%.3f\"%p)\n"
   ]
  }
 ],
 "metadata": {
  "language_info": {
   "name": "python"
  },
  "orig_nbformat": 4
 },
 "nbformat": 4,
 "nbformat_minor": 2
}
