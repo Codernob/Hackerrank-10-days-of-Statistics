{
 "cells": [
  {
   "cell_type": "markdown",
   "metadata": {},
   "source": [
    "problem statement\n",
    "https://www.hackerrank.com/challenges/s10-normal-distribution-2/problem"
   ]
  },
  {
   "cell_type": "code",
   "execution_count": null,
   "metadata": {},
   "outputs": [],
   "source": [
    "import math\n",
    "\n",
    "def phi(x,mu,sig):\n",
    "    return 0.5 * (1.0+math.erf((x-mu)/(sig*2**0.5)))\n",
    "\n",
    "mu, sig = list(map(int,input().split()))\n",
    "x1 = float(input())\n",
    "print(\"%.2f\"%(100.0*(1-phi(x1,mu,sig))))\n",
    "x2 = float(input())\n",
    "print(\"%.2f\"%(100.0*(1-phi(x2,mu,sig))))\n",
    "print(\"%.2f\"%(100.0*(phi(x2,mu,sig))))"
   ]
  }
 ],
 "metadata": {
  "language_info": {
   "name": "python"
  },
  "orig_nbformat": 4
 },
 "nbformat": 4,
 "nbformat_minor": 2
}
