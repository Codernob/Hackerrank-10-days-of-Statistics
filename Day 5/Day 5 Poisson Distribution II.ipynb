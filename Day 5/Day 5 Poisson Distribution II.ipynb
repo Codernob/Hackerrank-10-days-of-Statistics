{
 "cells": [
  {
   "cell_type": "markdown",
   "metadata": {},
   "source": [
    "problem statement \n",
    "https://www.hackerrank.com/challenges/s10-poisson-distribution-2/problem"
   ]
  },
  {
   "cell_type": "code",
   "execution_count": null,
   "metadata": {},
   "outputs": [],
   "source": [
    "La, Lb = list(map(float,input().split()))\n",
    "Ca = 160.0 + 40.0 * (La + La * La)\n",
    "Cb = 128.0 + 40.0 * (Lb + Lb * Lb)\n",
    "print(\"%.3f\"%Ca)\n",
    "print(\"%.3f\"%Cb)\n"
   ]
  }
 ],
 "metadata": {
  "language_info": {
   "name": "python"
  },
  "orig_nbformat": 4
 },
 "nbformat": 4,
 "nbformat_minor": 2
}
